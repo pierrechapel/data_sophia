{
 "cells": [
  {
   "cell_type": "markdown",
   "metadata": {},
   "source": [
    "# Générateur de sets d'entraînement et de test\n",
    "\n",
    "Le notebook sert à générer les jeux X_train et X_test. Ils prennent la forme de deux .csv, X_train.csv et X_test.csv."
   ]
  },
  {
   "cell_type": "markdown",
   "metadata": {},
   "source": [
    "Dépendances\n"
   ]
  },
  {
   "cell_type": "code",
   "execution_count": 10,
   "metadata": {},
   "outputs": [],
   "source": [
    "import numpy as np\n",
    "import pandas as pd\n"
   ]
  },
  {
   "cell_type": "code",
   "execution_count": 11,
   "metadata": {},
   "outputs": [],
   "source": [
    "df = pd.read_csv('./base_de_données.csv')"
   ]
  },
  {
   "cell_type": "markdown",
   "metadata": {},
   "source": [
    "X_train = 1 sur 5  \n",
    "X_test = le reste"
   ]
  },
  {
   "cell_type": "code",
   "execution_count": 12,
   "metadata": {},
   "outputs": [],
   "source": [
    "df_train = df[::5]\n",
    "df1 = df[1::5]\n",
    "df2 = df[2::5]\n",
    "df3 = df[3::5]\n",
    "df4 = df[4::5]\n",
    "\n",
    "df_test = pd.concat((df1,df2,df3,df4),axis=0)\n",
    "df_train.to_csv('./X_train.csv',index_label='index')\n",
    "df_test.to_csv('./X_test.csv',index_label = 'index')"
   ]
  },
  {
   "cell_type": "markdown",
   "metadata": {},
   "source": [
    "Création de jeux random satisfaisant une certaine proportion :"
   ]
  },
  {
   "cell_type": "code",
   "execution_count": 9,
   "metadata": {},
   "outputs": [],
   "source": [
    "proportion = 0.6 #proportion train/test\n",
    "shuffle = df.sample(frac=1)\n",
    "n = int(round(len(shuffle)*proportion))\n",
    "\n",
    "df_train = shuffle[:n]\n",
    "df_test = shuffle[n:]\n",
    "\n",
    "df_train.to_csv('./X_train.csv',index_label='index')\n",
    "df_test.to_csv('./X_test.csv',index_label = 'index')\n"
   ]
  },
  {
   "cell_type": "markdown",
   "metadata": {},
   "source": [
    "Création de jeux qui séparent les différents essais:  \n",
    "num_piece pair : test  \n",
    "num_piece impair : train"
   ]
  },
  {
   "cell_type": "code",
   "execution_count": 10,
   "metadata": {},
   "outputs": [],
   "source": [
    "num_piece = df['num_piece']\n",
    "train_test = []\n",
    "for piece in num_piece:\n",
    "\tessai = int(piece.split('-')[0])\n",
    "\tif essai%2==0:\n",
    "\t\ttrain_test.append('test')\n",
    "\telse:\n",
    "\t\ttrain_test.append('train')\n",
    "\n",
    "df.insert(2,'train or test',train_test)\n",
    "\n",
    "df_train = df.loc[df['train or test'] == 'train']\n",
    "df_test = df.loc[df['train or test'] == 'test']\n",
    "\n",
    "df_train.to_csv('./X_train.csv',index_label='index')\n",
    "df_test.to_csv('./X_test.csv',index_label = 'index')\n",
    "\t\t\n",
    "\t\t\n",
    "\t"
   ]
  },
  {
   "cell_type": "markdown",
   "metadata": {},
   "source": [
    "3 essais sur 4 en train  \n",
    "le reste en test"
   ]
  },
  {
   "cell_type": "code",
   "execution_count": 13,
   "metadata": {},
   "outputs": [],
   "source": [
    "num_piece = df['num_piece']\n",
    "train_test = []\n",
    "for piece in num_piece:\n",
    "\tessai = int(piece.split('-')[0])\n",
    "\tif essai%4==0:\n",
    "\t\ttrain_test.append('test')\n",
    "\telse:\n",
    "\t\ttrain_test.append('train')\n",
    "\n",
    "df.insert(2,'train or test',train_test)\n",
    "\n",
    "df_train = df.loc[df['train or test'] == 'train']\n",
    "df_test = df.loc[df['train or test'] == 'test']\n",
    "\n",
    "df_train.to_csv('./X_train.csv',index_label='index')\n",
    "df_test.to_csv('./X_test.csv',index_label = 'index')"
   ]
  },
  {
   "cell_type": "code",
   "execution_count": null,
   "metadata": {},
   "outputs": [],
   "source": []
  }
 ],
 "metadata": {
  "interpreter": {
   "hash": "9cf901583f7627b34116b014bc4696893c62b0255ab3e3e7cbe11c042920c781"
  },
  "kernelspec": {
   "display_name": "Python 3.8.3 64-bit ('base': conda)",
   "language": "python",
   "name": "python3"
  },
  "language_info": {
   "codemirror_mode": {
    "name": "ipython",
    "version": 3
   },
   "file_extension": ".py",
   "mimetype": "text/x-python",
   "name": "python",
   "nbconvert_exporter": "python",
   "pygments_lexer": "ipython3",
   "version": "3.8.3"
  },
  "orig_nbformat": 4
 },
 "nbformat": 4,
 "nbformat_minor": 2
}
