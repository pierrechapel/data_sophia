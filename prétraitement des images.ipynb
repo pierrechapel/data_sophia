{
 "cells": [
  {
   "cell_type": "markdown",
   "metadata": {},
   "source": [
    "# Prétraitement des images"
   ]
  },
  {
   "cell_type": "markdown",
   "metadata": {},
   "source": [
    "Le notebook va chercher à trouver des prétraitements d'images visant à améliorer les performances en classification par création de features par algorithme SIFT, et clustering par la méthode des k-means."
   ]
  },
  {
   "cell_type": "markdown",
   "metadata": {},
   "source": [
    "## Dépendances"
   ]
  },
  {
   "cell_type": "code",
   "execution_count": 9,
   "metadata": {},
   "outputs": [],
   "source": [
    "import numpy as np\n",
    "import pandas as pd\n",
    "import cv2\n",
    "\n",
    "df = pd.read_csv('base_de_données.csv')\n",
    "photos = df['photo']\n",
    "\n",
    "photo_givrage = photos[43] #108 originalement\n",
    "photo_tache = photo_givrage\n",
    "photo_coulure = photos[113]\n",
    "\n",
    "sift = cv2.SIFT_create()\n"
   ]
  },
  {
   "cell_type": "markdown",
   "metadata": {},
   "source": []
  },
  {
   "cell_type": "code",
   "execution_count": 11,
   "metadata": {},
   "outputs": [
    {
     "name": "stdout",
     "output_type": "stream",
     "text": [
      "uint8\n"
     ]
    }
   ],
   "source": [
    "image = cv2.imread('./Photographies pieces chaudes/' + photo_tache ,cv2.IMREAD_GRAYSCALE)\n",
    "print(image.dtype)\n",
    "# cv2.imshow('img',image)\n",
    "# cv2.waitKey(0)\n",
    "# cv2.destroyAllWindows()"
   ]
  },
  {
   "cell_type": "code",
   "execution_count": 3,
   "metadata": {},
   "outputs": [
    {
     "name": "stdout",
     "output_type": "stream",
     "text": [
      "(550, 600)\n"
     ]
    }
   ],
   "source": [
    "#Rognage de l'image\n",
    "img_rogne = image[350:900,600:1200]\n",
    "print(img_rogne.shape)\n",
    "cv2.imshow('img',img_rogne,)\n",
    "cv2.waitKey(0)\n",
    "cv2.destroyAllWindows()"
   ]
  },
  {
   "cell_type": "code",
   "execution_count": null,
   "metadata": {},
   "outputs": [],
   "source": [
    "#Rognage extreme\n",
    "xtreme = image[800:900,630:900]\n",
    "cv2.imshow('img',xtreme)\n",
    "cv2.waitKey(0)\n",
    "cv2.destroyAllWindows()\n",
    "\n",
    "kp = sift.detect(xtreme)\n",
    "img_=cv2.drawKeypoints(xtreme,kp,xtreme)\n",
    "cv2.imwrite('sift_keypoints_xtreme.jpg',img_)"
   ]
  },
  {
   "cell_type": "code",
   "execution_count": 4,
   "metadata": {},
   "outputs": [
    {
     "name": "stdout",
     "output_type": "stream",
     "text": [
      "(1280, 1920)\n"
     ]
    },
    {
     "data": {
      "text/plain": [
       "True"
      ]
     },
     "execution_count": 4,
     "metadata": {},
     "output_type": "execute_result"
    }
   ],
   "source": [
    "#SIFT en utilisant un masque\n",
    "\n",
    "mask = np.zeros_like(image)\n",
    "z = np.ones((550,600))\n",
    "mask[350:900,600:1200] = z\n",
    "mask = np.uint8(mask)\n",
    "print(mask.shape)\n",
    "\n",
    "kp = sift.detect(image,mask = mask)\n",
    "img_=cv2.drawKeypoints(image,kp,image)\n",
    "cv2.imwrite('sift_keypoints_mask.jpg',img_)\n",
    "\n",
    "kp = sift.detect(image)\n",
    "img_=cv2.drawKeypoints(image,kp,image)\n",
    "cv2.imwrite('sift_keypoints.jpg',img_)\n"
   ]
  },
  {
   "cell_type": "markdown",
   "metadata": {},
   "source": [
    "On remarque que même avec un masque, SIFT ne mets pas de keypoints là où sont les défauts.  \n",
    "On va essayer différentes méthodes pour souligner les défauts."
   ]
  },
  {
   "cell_type": "code",
   "execution_count": null,
   "metadata": {},
   "outputs": [],
   "source": [
    "image = cv2.imread('./Photographies pieces chaudes/' + photo_coulure ,cv2.IMREAD_GRAYSCALE)\n",
    "\n",
    "#Augmentation du contraste\n",
    "alpha = 1\n",
    "img_rogne = image[250:1050,530:1300]\n",
    "img_rogne = np.clip((np.round(alpha*img_rogne,decimals=0)),0,255)\n",
    "img_rogne = img_rogne.astype(np.uint8)\n",
    "\n",
    "\n",
    "print(img_rogne.shape)\n",
    "cv2.imshow('img',img_rogne)\n",
    "cv2.waitKey(0)\n",
    "cv2.destroyAllWindows()"
   ]
  },
  {
   "cell_type": "code",
   "execution_count": null,
   "metadata": {},
   "outputs": [],
   "source": [
    "#Methode du gamma\n",
    "\n",
    "img_rogne = image[250:1050,530:1300]\n",
    "\n",
    "gamma = 1.5\n",
    "lookUpTable = np.empty((1,256), np.uint8)\n",
    "for i in range(256):\n",
    "\tlookUpTable[0,i] = np.clip(pow(i / 255.0, gamma) * 255.0, 0, 255)\n",
    "\n",
    "res = cv2.LUT(img_rogne, lookUpTable)\n",
    "cv2.imshow('img',res)\n",
    "cv2.waitKey(0)\n",
    "cv2.destroyAllWindows()"
   ]
  },
  {
   "cell_type": "code",
   "execution_count": null,
   "metadata": {},
   "outputs": [],
   "source": [
    "#Test des key points sur l'image avec gamma modifié\n",
    "\n",
    "kp = sift.detect(res)\n",
    "img_=cv2.drawKeypoints(res,kp,res)\n",
    "cv2.imwrite('sift_keypoints_gamma.jpg',img_)\n"
   ]
  },
  {
   "cell_type": "markdown",
   "metadata": {},
   "source": [
    "Changer le gamma ne donne pas non plus de résultats concluants."
   ]
  },
  {
   "cell_type": "markdown",
   "metadata": {},
   "source": [
    "Changer le contraste semble pas terrible. Essayons de trouver les contours avec la méthode de Canny."
   ]
  },
  {
   "cell_type": "code",
   "execution_count": null,
   "metadata": {},
   "outputs": [],
   "source": [
    "contours = cv2.Canny(img_rogne,10,100)\n",
    "cv2.imshow('img',contours)\n",
    "cv2.waitKey(0)\n",
    "cv2.destroyAllWindows()"
   ]
  },
  {
   "cell_type": "markdown",
   "metadata": {},
   "source": [
    "Pas fameux non plus."
   ]
  },
  {
   "cell_type": "markdown",
   "metadata": {},
   "source": [
    "On va essayer de modifier les paramètres de l'algorithme SIFT pour garder des features qui nous interessent."
   ]
  },
  {
   "cell_type": "code",
   "execution_count": 12,
   "metadata": {},
   "outputs": [
    {
     "data": {
      "text/plain": [
       "True"
      ]
     },
     "execution_count": 12,
     "metadata": {},
     "output_type": "execute_result"
    }
   ],
   "source": [
    "sift_mod = cv2.SIFT_create(edgeThreshold=2,contrastThreshold=0.014,sigma=0.5)\n",
    "\n",
    "kp = sift_mod.detect(image,mask = mask)\n",
    "img_=cv2.drawKeypoints(image,kp,image)\n",
    "cv2.imwrite('sift_keypoints_edgeth.jpg',img_)\n",
    "\n",
    "#semble etre un bon réglage pour détecter les tâches"
   ]
  },
  {
   "cell_type": "markdown",
   "metadata": {},
   "source": [
    "Essayons de mélanger la technique du gamma avec les réglages des paramètres de SIFT"
   ]
  },
  {
   "cell_type": "code",
   "execution_count": null,
   "metadata": {},
   "outputs": [],
   "source": [
    "sift_mod = cv2.SIFT_create(edgeThreshold=2,contrastThreshold=0.012,sigma=1)\n",
    "\n",
    "kp = sift_mod.detect(res)\n",
    "img_=cv2.drawKeypoints(res,kp,res)\n",
    "cv2.imwrite('sift_mod_gamma.jpg',img_)"
   ]
  },
  {
   "cell_type": "code",
   "execution_count": null,
   "metadata": {},
   "outputs": [],
   "source": []
  }
 ],
 "metadata": {
  "interpreter": {
   "hash": "9cf901583f7627b34116b014bc4696893c62b0255ab3e3e7cbe11c042920c781"
  },
  "kernelspec": {
   "display_name": "Python 3.8.3 64-bit ('base': conda)",
   "language": "python",
   "name": "python3"
  },
  "language_info": {
   "codemirror_mode": {
    "name": "ipython",
    "version": 3
   },
   "file_extension": ".py",
   "mimetype": "text/x-python",
   "name": "python",
   "nbconvert_exporter": "python",
   "pygments_lexer": "ipython3",
   "version": "3.8.3"
  }
 },
 "nbformat": 4,
 "nbformat_minor": 4
}
